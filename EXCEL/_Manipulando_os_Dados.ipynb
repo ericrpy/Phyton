{
  "nbformat": 4,
  "nbformat_minor": 0,
  "metadata": {
    "colab": {
      "provenance": [],
      "authorship_tag": "ABX9TyMO49z8DzWdc7GXxmjA7CR9",
      "include_colab_link": true
    },
    "kernelspec": {
      "name": "python3",
      "display_name": "Python 3"
    },
    "language_info": {
      "name": "python"
    }
  },
  "cells": [
    {
      "cell_type": "markdown",
      "metadata": {
        "id": "view-in-github",
        "colab_type": "text"
      },
      "source": [
        "<a href=\"https://colab.research.google.com/github/ericjigsaw/Phyton/blob/main/Manipulando_os_Dados.ipynb\" target=\"_parent\"><img src=\"https://colab.research.google.com/assets/colab-badge.svg\" alt=\"Open In Colab\"/></a>"
      ]
    },
    {
      "cell_type": "code",
      "execution_count": null,
      "metadata": {
        "id": "pc8FQSXHeLhn"
      },
      "outputs": [],
      "source": [
        "# carregando a planilha\n",
        "from openpyxl import load_workbook\n",
        "\n",
        "workbook = load_workbook(filename='sample.xlsx')\n",
        "\n",
        "# verificando abas\n",
        "sheet = workbook.active"
      ]
    },
    {
      "cell_type": "code",
      "source": [
        "# iterando sobre os dados\n",
        "for value in sheet.iter_rows(min_row=1,\n",
        "                             max_row=1,\n",
        "                             values_only=True):\n",
        "    print(value)"
      ],
      "metadata": {
        "id": "RjIjC0W1nwjT"
      },
      "execution_count": null,
      "outputs": []
    },
    {
      "cell_type": "code",
      "source": [
        "# criando um dicionário na mão para entendimento\n",
        "\n",
        "products = {\n",
        "    \"B00FALQ1ZC\": {\n",
        "        \"parent\": \"937001370\",\n",
        "        \"title\": 'Invicta Women\\'s 15150 \"Angel\" 18k Yellow Gold Ion-Plated Stainless Steel and Brown Leather Watch',\n",
        "        \"category\": \"Watches\"\n",
        "    },\n",
        "    \"B00D3RGO20\":{\n",
        "        \"parent\": \"484010722\",\n",
        "        \"title\": \"Kenneth Cole New York Women's KC4944 Automatic Silver Automatic Mesh Bracelet Analog Watch\",\n",
        "        \"category\": \"Watches\"\n",
        "    },\n",
        "    \"B00DKYC7TK\": {\n",
        "        \"parent\": \"361166390\",\n",
        "        \"title\": \"Ritche 22mm Black Stainless Steel Bracelet Watch Band Strap Pebble Time/Pebble Classic\",\n",
        "        \"category\": \"Watches\"\n",
        "    }\n",
        "}"
      ],
      "metadata": {
        "id": "4XY0taR8yXyo"
      },
      "execution_count": null,
      "outputs": []
    },
    {
      "cell_type": "code",
      "source": [
        "# criando um dicionário\n",
        "products = {}\n",
        "\n",
        "# salvando um dicionário\n",
        "for row in sheet.iter_rows(min_row=2,\n",
        "                           min_col=4,\n",
        "                           max-col=7,\n",
        "                           values_only=true):\n",
        "  product_id = row[0]\n",
        "  product = {\n",
        "      \"parent\": row[1],\n",
        "      \"title\": row[2],\n",
        "      \"category\": row[3]\n",
        "  }\n",
        "  products[product_id] = product"
      ],
      "metadata": {
        "id": "focsKWYro-dj"
      },
      "execution_count": null,
      "outputs": []
    },
    {
      "cell_type": "code",
      "source": [
        "# verificando as chaves\n",
        "products.keys()"
      ],
      "metadata": {
        "id": "LwMdjJm8wPhA"
      },
      "execution_count": null,
      "outputs": []
    },
    {
      "cell_type": "code",
      "source": [
        "# checando item\n",
        "products['B00FALQ1ZC']"
      ],
      "metadata": {
        "id": "rsXhqLBDv7u6"
      },
      "execution_count": null,
      "outputs": []
    },
    {
      "cell_type": "code",
      "source": [
        "# transformando em uma data frame\n",
        "import panda as pd\n",
        "df =  pd.DataFrame.from-dict9products, orient='index')\n",
        "\n",
        "df.head()\n"
      ],
      "metadata": {
        "id": "kWjfpHq1vOhx"
      },
      "execution_count": null,
      "outputs": []
    }
  ]
}
